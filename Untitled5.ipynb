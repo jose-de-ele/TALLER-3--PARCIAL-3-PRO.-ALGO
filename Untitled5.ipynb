{
  "nbformat": 4,
  "nbformat_minor": 0,
  "metadata": {
    "colab": {
      "provenance": [],
      "authorship_tag": "ABX9TyN7oT6O3+d1QqKLzhFZ5nGy",
      "include_colab_link": true
    },
    "kernelspec": {
      "name": "python3",
      "display_name": "Python 3"
    },
    "language_info": {
      "name": "python"
    }
  },
  "cells": [
    {
      "cell_type": "markdown",
      "metadata": {
        "id": "view-in-github",
        "colab_type": "text"
      },
      "source": [
        "<a href=\"https://colab.research.google.com/github/jose-de-ele/TALLER-3--PARCIAL-3-PRO.-ALGO/blob/main/Untitled5.ipynb\" target=\"_parent\"><img src=\"https://colab.research.google.com/assets/colab-badge.svg\" alt=\"Open In Colab\"/></a>"
      ]
    },
    {
      "cell_type": "markdown",
      "source": [
        "ALGORITMO:\n",
        "Inicializa dos variables: suma_notas y suma_porcentajes en 0.\n",
        "\n",
        "Define las notas y porcentajes:\n",
        "\n",
        "Nota 1: 1.8, Porcentaje: 20%\n",
        "Nota 2: 3.5, Porcentaje: 40%\n",
        "Nota 3: 2.1, Porcentaje: 20%\n",
        "Multiplica cada calificación por su porcentaje y añade el resultado a suma_notas.\n",
        "\n",
        "Suma todos los porcentajes en suma_porcentajes.\n",
        "\n",
        "Calcula el promedio de notas dividiendo suma_notas por suma_porcentajes.\n",
        "\n",
        "Muestra el promedio de notas con dos decimales."
      ],
      "metadata": {
        "id": "7DfuUKrYgmuJ"
      }
    },
    {
      "cell_type": "code",
      "execution_count": null,
      "metadata": {
        "id": "5wh32avVga6O"
      },
      "outputs": [],
      "source": [
        "Start\n",
        "\n",
        "Un programa que calcula el promedio  de notas\n",
        "\n",
        "\n",
        "Declare float suma_notas\n",
        "\n",
        "Declare float suma_porcentajes\n",
        "\n",
        "Declare float promedio_notas\n",
        "\n",
        "\n",
        "\n",
        "Set suma_notas = 0\n",
        "Set suma_porcentaje = 0\n",
        "\n",
        "\n",
        "\n",
        "Display \"Ingresar la calificación 1:\"\n",
        "Input nota_1\n",
        "Display \"Ingresar el porcentaje para la calificación 1:\"\n",
        "Input porcentaje1\n",
        "\n",
        "Display \"Ingresar la calificación 2:\"\n",
        "Input nota_2\n",
        "Display \"Ingresar el porcentaje para la calificación 2:\"\n",
        "Input porcentaje2\n",
        "\n",
        "Display \"Ingresar la calificación 3:\"\n",
        "Input nota_3\n",
        "Display \"Ingresar el porcentaje para la calificación 3:\"\n",
        "Input porcentaje3\n",
        "\n",
        "\n",
        "Set suma_notas = (nota1 * porcentaje1) + (nota2 * porcentaje2) + (nota3 * porcentaje3)\n",
        "Set suma_porcentaje = porcentaje1 + porcentaje2 + porcentaje3\n",
        "\n",
        "// Calcular el promedio de notas\n",
        "If suma_porcentajes > 0 Then\n",
        "    Set promedio_notas = suma_notas / suma_porcentjaes\n",
        "Else\n",
        "    Set promedio_notas = 0 // Evitar división por cero\n",
        "End If\n",
        "\n",
        "// Mostrar los resultados en pantalla\n",
        "Display \"El promedio de notas es: \", promedio_notas\n",
        "\n",
        "End"
      ]
    },
    {
      "cell_type": "code",
      "source": [
        " definir las variables dadas en el enunciado\n",
        "\n",
        "suma_notas = 0\n",
        "\n",
        "suma_porcentajes = 0\n",
        "\n",
        "# Definir notas y porcentajes\n",
        "\n",
        "notas = [3.8, 4.2, 4]\n",
        "porcentajes = [40, 35, 50]\n",
        "\n",
        "# Calcular la suma de notas y la suma de porcentaje\n",
        "\n",
        "for i in range(len(notas)):\n",
        "    suma_notas += notas[i] * porcentajes[i]\n",
        "    suma_porcentajes += porcentajes[i]\n",
        "\n",
        "# Calcular y mostrar el promedio suma de notas\n",
        "if suma_porcentajes > 0:\n",
        "    promedio_de_notas = suma_notas / suma_porcentajes\n",
        "    print(f\"El promedio de notas es: {promedio_de_notas:.2f}.\")\n",
        "else:\n",
        "    print(\"No se metieron notas.\")"
      ],
      "metadata": {
        "id": "tef498RFgv4J"
      },
      "execution_count": null,
      "outputs": []
    },
    {
      "cell_type": "markdown",
      "source": [],
      "metadata": {
        "id": "2HhEnIASglwJ"
      }
    },
    {
      "cell_type": "markdown",
      "source": [
        "Algoritmo\n",
        "1 Inicializar las variables puntos = 0 y jugar_nuevamente = True\n",
        "\n",
        "\n",
        "2 Iniciar bucle principal:\n",
        "\n",
        "Mientras jugar_nuevamente sea verdadero:\n",
        "Seleccionar aleatoriamente cara o sello y asignarlo a resultado.\n",
        "\n",
        "3 Inicializar intentos en 3.\n",
        "\n",
        "4Mostrar un mensaje de bienvenida.\n",
        "\n",
        "5 Iniciar bucle de intentos:\n",
        "\n",
        "6 Mientras intentos sea mayor que 0:\n",
        "\n",
        "7 Pedir al usuario que ingrese su adivinanza.\n",
        "  -Si la adivinanza no es cara ni sello:\n",
        "  -Mostrar un mensaje de error y continuar.\n",
        "\n",
        "9 Si la adivinanza es igual a resultado:\n",
        "  -Incrementar puntos en 1.\n",
        "  -Mostrar mensaje de acierto y romper el bucle de intentos.\n",
        "\n",
        "10 Si la adivinanza es incorrecta:\n",
        "  -restar uno a los intentos\n",
        "  -Mostrar cuántos intentos quedan.\n",
        "\n",
        "10 Si se acaban los intentos:\n",
        "  -Mostrar el resultado correcto.\n",
        "  -Preguntar al usuario si desea jugar de nuevo.\n",
        "\n",
        "11 Si responde \"no\", establecer jugar_nuevamente en False."
      ],
      "metadata": {
        "id": "TSTD_lQ7iKwX"
      }
    },
    {
      "cell_type": "code",
      "source": [
        "#pseudocodigo Problema 3: Juego de Cara o Sello\n",
        "Inicio\n",
        "    Declarar puntos como entero\n",
        "    Declarar jugar_nuevamente como booleano\n",
        "    puntos = 0\n",
        "    jugar_nuevamente = Verdadero\n",
        "\n",
        "    Mientras jugar_nuevamente sea Verdadero Hacer\n",
        "        resultado = Seleccionar aleatoriamente entre \"cara\" y \"sello\"\n",
        "        intentos = 3\n",
        "        Mostrar \"BIENVENIDO AL MEJOR CARA O SELLO\"\n",
        "\n",
        "        Mientras intentos > 0 Hacer\n",
        "            Mostrar \"Ingrese uno de los dos, cara o sello \"\n",
        "            Leer adivinanza\n",
        "\n",
        "            Si adivinanza != \"cara\" Y adivinanza != \"sello\" Entonces\n",
        "                Mostrar \"Ingrese uno de los dos, cara o sello\"\n",
        "                Continuar\n",
        "            Fin Si\n",
        "\n",
        "            Si adivinanza = resultado Entonces\n",
        "                puntos = puntos + 1\n",
        "                Mostrar \"eres una makina\"\n",
        "                Romper\n",
        "            Sino\n",
        "                intentos = intentos - 1\n",
        "                Mostrar \"no le sabes. Te quedan\", intentos\n",
        "            Fin Si\n",
        "        Fin Mientras\n",
        "\n",
        "        Si intentos = 0 Entonces\n",
        "            Mostrar \"Has perdido. El resultado era:\", resultado\n",
        "        Fin Si\n",
        "\n",
        "        Mostrar \"¿Quieres jugar de nuevo? (sí/no)\"\n",
        "        Leer jugar_nuevamente_input\n",
        "        Si jugar_nuevamente_input = \"no\" Entonces\n",
        "            jugar_nuevamente = Falso\n",
        "        Fin Si\n",
        "    Fin Mientras\n",
        "\n",
        "    Mostrar \"Juego terminado. Tu puntaje total es:\", puntos\n",
        "Fin"
      ],
      "metadata": {
        "id": "3BmxZSeIjEFG"
      },
      "execution_count": null,
      "outputs": []
    },
    {
      "cell_type": "code",
      "source": [
        "import random\n",
        "\n",
        "def jugar_cara_o_sello():\n",
        "    puntos = 0\n",
        "    jugar_nuevamente = True\n",
        "\n",
        "    while jugar_nuevamente:\n",
        "        # Selección aleatoria de cara o sello\n",
        "        resultado = random.choice([\"cara\", \"sello\"])\n",
        "        intentos = 3\n",
        "\n",
        "        print(\"BIENVENIDO AL MEJOR CARA O SELLO\")\n",
        "\n",
        "        while intentos > 0:\n",
        "            # Pedir la adivinanza al usuario\n",
        "            adivinanza = input(\"Ingrese uno de los dos, cara o sello \")\n",
        "\n",
        "            # Verificar si la adivinanza es válida\n",
        "            if adivinanza != \"cara\" and adivinanza != \"sello\":\n",
        "                print(\"Ingrese uno de los dos, cara o sello\")\n",
        "\n",
        "\n",
        "            # Comprobar la adivinanza\n",
        "            if adivinanza == resultado:\n",
        "                puntos += 1\n",
        "                print(\"eres una makina\")\n",
        "                break\n",
        "            else:\n",
        "                intentos -= 1\n",
        "                print(f\"no le sabes. Te quedan {intentos}\")\n",
        "\n",
        "        if intentos == 0:\n",
        "            print(f\"Has perdido. El resultado era: {resultado}.\")\n",
        "\n",
        "        # Preguntar si desea jugar de nuevo\n",
        "        jugar_nuevamente_input = input(\"¿Quieres jugar de nuevo? (sí/no): \")\n",
        "        if jugar_nuevamente_input == \"no\":\n",
        "            jugar_nuevamente = False\n",
        "\n",
        "    print(f\"Juego terminado. Tu puntaje total es: {puntos}.\")\n",
        "\n",
        "# Ejecutar el juego\n",
        "jugar_cara_o_sello()"
      ],
      "metadata": {
        "colab": {
          "base_uri": "https://localhost:8080/"
        },
        "id": "HDhduY8wjGgL",
        "outputId": "8f43aaa9-6d08-46c3-f53d-2d7a7c1b5b37"
      },
      "execution_count": null,
      "outputs": [
        {
          "output_type": "stream",
          "name": "stdout",
          "text": [
            "BIENVENIDO AL MEJOR CARA O SELLO\n"
          ]
        }
      ]
    }
  ]
}